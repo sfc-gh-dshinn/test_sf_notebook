{
 "cells": [
  {
   "cell_type": "code",
   "execution_count": null,
   "id": "3366dad0-913c-47b7-92e5-5143d8354420",
   "metadata": {},
   "outputs": [],
   "source": [
    "print('This notebook resides in the root directory')"
   ]
  }
 ],
 "metadata": {
  "kernelspec": {
   "display_name": "Python 3 (ipykernel)",
   "language": "python",
   "name": "python3"
  },
  "language_info": {
   "codemirror_mode": {
    "name": "ipython",
    "version": 3
   },
   "file_extension": ".py",
   "mimetype": "text/x-python",
   "name": "python",
   "nbconvert_exporter": "python",
   "pygments_lexer": "ipython3",
   "version": "3.10.16"
  }
 },
 "nbformat": 4,
 "nbformat_minor": 5
}
